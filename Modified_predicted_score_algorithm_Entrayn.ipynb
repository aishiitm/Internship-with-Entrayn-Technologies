{
  "nbformat": 4,
  "nbformat_minor": 0,
  "metadata": {
    "colab": {
      "name": "Modified predicted score algorithm - for quant (5) (1).ipynb",
      "version": "0.3.2",
      "provenance": []
    },
    "kernelspec": {
      "display_name": "Python 3",
      "language": "python",
      "name": "python3"
    }
  },
  "cells": [
    {
      "metadata": {
        "id": "B7P0II9sqURO",
        "colab_type": "code",
        "colab": {}
      },
      "cell_type": "code",
      "source": [
        "import pandas as pd\n",
        "import numpy as np\n",
        "import time\n",
        "import math\n",
        "import matplotlib.pyplot as plt\n",
        "\n",
        "def set_med_mad(quant_q):\n",
        "    # median_time = est_time and mad_time = 0.25 * median_time.\n",
        "    \n",
        "    median_time = quant_q.time.values\n",
        "    mad_time = median_time * 0.25\n",
        "    median_time = median_time.tolist()\n",
        "    mad_time = mad_time.tolist()\n",
        "    \n",
        "    quant_q['median_time'] = pd.Series(median_time, index = quant_q.index)\n",
        "    quant_q['mad_time'] = pd.Series(mad_time, index = quant_q.index)    \n",
        "    return quant_q\n",
        "\n",
        "def dotproduct(a,b,c):\n",
        "    n = len(a)\n",
        "    sum = 0\n",
        "    for i in range(n):\n",
        "        sum=sum+a[i]*b[i]*c[i]\n",
        "    return sum\n",
        "    \n",
        "def check_if_correct(inter,quant_q):\n",
        "    # Given a row of data from the interaction table, will check the question data and return whether the\n",
        "    # attempt was correct or not (success_status is 1 or 0)\n",
        "    i = 0\n",
        "    n = len(quant_q)\n",
        "    success_status = 0\n",
        "    found = 0\n",
        "    if inter[5]==\"entrayn_glu\":\n",
        "        while i < n:\n",
        "            if quant_q.entrayn_glu_id[i]==inter[4]:\n",
        "                found = 1\n",
        "                difficulty = quant_q.difficulty[i]\n",
        "                l1_tag = quant_q.L1[i]\n",
        "                l2_tag = quant_q.L2[i]\n",
        "                est_time = quant_q.time[i]\n",
        "                median_time = quant_q.median_time[i]\n",
        "                mad_time = quant_q.mad_time[i]\n",
        "                timestamp = inter[6]\n",
        "                if (quant_q.answer[i])==inter[7]:\n",
        "                    success_status = 1\n",
        "                    \n",
        "            i = i + 1\n",
        "        if found == 0:\n",
        "            return False,False,False,False,False,False,False,False\n",
        "    return success_status,difficulty,l1_tag,l2_tag,est_time,median_time,mad_time,timestamp\n",
        "\n",
        "def attempt_hist_user(int_data,quant_q,reattempt_data,uid):\n",
        "    # Given the entire interation table and quant question table, for a given user id, this function will output \n",
        "    # a table with the following columns: interaction_id, gluid, success_status, timestamp, estimated time, \n",
        "    # L1 tag, L2 tag, difficulty level, time taken on the question, attempt number\n",
        "    \n",
        "    success_status = []\n",
        "    int_id = []\n",
        "    gluid = []\n",
        "    time_taken = []\n",
        "    test_time = []\n",
        "    difficulty = []\n",
        "    l1_tag = []\n",
        "    l2_tag = []\n",
        "    weighted_score = []\n",
        "    median_time = []\n",
        "    mad_time = []\n",
        "    time_factor = []\n",
        "    timestamp = []\n",
        "    attempt_factor=[]\n",
        "    i = 0\n",
        "    n = len(int_data)\n",
        "    set_of_quant_q = set(quant_q.entrayn_glu_id.tolist())\n",
        "    \n",
        "    while i<n:\n",
        "        if int_data.entity_id[i] in set_of_quant_q:\n",
        "            m = reattempt_data.loc[reattempt_data.uid == uid]\n",
        "            attempts=(m.loc[m.q_id==int_data.entity_id[i]].no_of_attempts.tolist())\n",
        "            if attempts:\n",
        "                    if attempts[0]==1 :\n",
        "                        N=1\n",
        "                    if attempts[0]==2 :\n",
        "                        N=0.75\n",
        "                    if attempts[0]==3 :\n",
        "                        N=0.5\n",
        "                    if attempts[0]==4 :\n",
        "                        N=0.25\n",
        "                    if attempts[0]>=5 :\n",
        "                        N=0.1\n",
        "        \n",
        "        \n",
        "        \n",
        "        if int_data.uid[i] == uid:\n",
        "            if int_data.type[i] == \"navigation_next\":\n",
        "                # computing values to construct table\n",
        "                a,b,c,d,e,f,g,h = check_if_correct(int_data.loc[i].values,quant_q)\n",
        "                # Assigning time factor\n",
        "                if int_data.value2[i] <= (f + g):\n",
        "                        t = 1\n",
        "                if int_data.value2[i] > (f + g) and int_data.value2[i] <= (f + 2*g):\n",
        "                        t = 0.9\n",
        "                if int_data.value2[i] > (f + 2*g) and int_data.value2[i] <= (f + 4*g):\n",
        "                        t = 0.8\n",
        "                if int_data.value2[i] > (f + 4*g):\n",
        "                        t = 0.7\n",
        "                if math.isnan(int_data.value2[i]) == True:\n",
        "                        t = 0\n",
        "                \n",
        "                # Assigning weighted_score. (Difficulty is shifted from 0 - 4 to 1 - 5 scale)    \n",
        "                \n",
        "                w=a*(b+1)     \n",
        "                if a is not False:\n",
        "                    int_id.append(int_data.interaction_id[i])\n",
        "                    gluid.append(int_data.entity_id[i])\n",
        "                    time_taken.append(int_data.value2[i])\n",
        "                    success_status.append(a)\n",
        "                    difficulty.append(b + 1)\n",
        "                    l1_tag.append(c)\n",
        "                    l2_tag.append(d)\n",
        "                    test_time.append(e)\n",
        "                    median_time.append(f)\n",
        "                    mad_time.append(g)\n",
        "                    timestamp.append(h)\n",
        "                    time_factor.append(t)\n",
        "                    attempt_factor.append(N)\n",
        "                    weighted_score.append(w)\n",
        "            \n",
        "                    \n",
        "           \n",
        "        i=i+1\n",
        "                      \n",
        "    hist_user = pd.DataFrame({'grade':pd.Series(success_status),\n",
        "                              'int_id':pd.Series(int_id),\n",
        "                              'gluid':pd.Series(gluid),\n",
        "                              'time_taken':pd.Series(time_taken),\n",
        "                              'difficulty':pd.Series(difficulty),\n",
        "                              'test_time':pd.Series(test_time),\n",
        "                              'l1_tag':pd.Series(l1_tag),\n",
        "                              'l2_tag':pd.Series(l2_tag),\n",
        "                              'median_time':pd.Series(median_time),\n",
        "                              'mad_time':pd.Series(mad_time),\n",
        "                              'time_factor':pd.Series(time_factor),\n",
        "                              'attempt_factor':pd.Series(attempt_factor),\n",
        "                              'timestamp':pd.Series(timestamp),\n",
        "                              'weighted_score':pd.Series(weighted_score)})\n",
        "    return hist_user\n",
        "\n",
        "def calc_quant_ps(hist,n_of_q):\n",
        "    pred_score_ideal = []\n",
        "    pred_score_ideal_time = []\n",
        "    pred_score_actual = []\n",
        "    pred_score_actual_time = []\n",
        "    pred_score_ideal_attempt=[]\n",
        "    pred_score_ideal_time_attempt=[]\n",
        "    pred_score_actual_attempt=[]\n",
        "    pred_score_actual_attempt_time=[]\n",
        "    \n",
        "    i = 1\n",
        "    m = len(hist)\n",
        "    threshold = (n_of_q / 4)\n",
        "    while i <= m:\n",
        "    \n",
        "        # Amongst the first i rows, choose those that have L2 tag as Algebra, Arithmetic, Data Analysis or Geometry and \n",
        "        # take the values of weighted_score of the last 'threshold' rows. Similar exercise for difficulty level\n",
        "        alg_ws = hist.head(n = i)[hist.l2_tag == 'Algebra'].tail(n = threshold).weighted_score.values.tolist()\n",
        "        arith_ws = hist.head(n = i)[hist.l2_tag == 'Arithmetic'].tail(n = threshold).weighted_score.values.tolist()\n",
        "        da_ws = hist.head(n = i)[hist.l2_tag == 'Data Analysis'].tail(n = threshold).weighted_score.values.tolist()\n",
        "        geo_ws = hist.head(n = i)[hist.l2_tag == 'Geometry'].tail(n = threshold).weighted_score.values.tolist()\n",
        "        \n",
        "        actual_ws = hist.head(n = i).tail(n = n_of_q).weighted_score.values.tolist()\n",
        "        \n",
        "        alg_diff = hist.head(n = i)[hist.l2_tag == 'Algebra'].tail(n = threshold).difficulty.values.tolist()\n",
        "        arith_diff = hist.head(n = i)[hist.l2_tag == 'Arithmetic'].tail(n = threshold).difficulty.values.tolist()\n",
        "        da_diff = hist.head(n = i)[hist.l2_tag == 'Data Analysis'].tail(n = threshold).difficulty.values.tolist()\n",
        "        geo_diff = hist.head(n = i)[hist.l2_tag == 'Geometry'].tail(n = threshold).difficulty.values.tolist()\n",
        "        \n",
        "        actual_diff = hist.head(n = i).tail(n = n_of_q).difficulty.values.tolist()\n",
        "        \n",
        "        alg_tf = hist.head(n = i)[hist.l2_tag == 'Algebra'].tail(n = threshold).time_factor.values.tolist()\n",
        "        arith_tf = hist.head(n = i)[hist.l2_tag == 'Arithmetic'].tail(n = threshold).time_factor.values.tolist()\n",
        "        da_tf = hist.head(n = i)[hist.l2_tag == 'Data Analysis'].tail(n = threshold).time_factor.values.tolist()\n",
        "        geo_tf = hist.head(n = i)[hist.l2_tag == 'Geometry'].tail(n = threshold).time_factor.values.tolist()\n",
        "        \n",
        "        actual_tf = hist.head(n = i).tail(n = n_of_q).time_factor.values.tolist()\n",
        "        \n",
        "        alg_af=hist.head(n=i)[hist.l2_tag=='Algebra'].tail(n=threshold).attempt_factor.values.tolist()\n",
        "        arith_af=hist.head(n=i)[hist.l2_tag=='Arithmetic'].tail(n=threshold).attempt_factor.values.tolist()\n",
        "        da_af=hist.head(n=i)[hist.l2_tag=='Data Analysis'].tail(n=threshold).attempt_factor.values.tolist()\n",
        "        geo_af=hist.head(n=i)[hist.l2_tag=='Geometry'].tail(n=threshold).attempt_factor.values.tolist()\n",
        "        \n",
        "        actual_af=hist.head(n=i).tail(n=n_of_q).attempt_factor.values.tolist()\n",
        "        \n",
        "        # if there are less than 5 questions for any of the topics, then make it up 5 questions with 0 score and medium\n",
        "        # difficulty level\n",
        "        while len(alg_ws) < 5:\n",
        "            alg_ws.append(0)\n",
        "            alg_diff.append(3)\n",
        "            alg_tf.append(1)\n",
        "            alg_af.append(1)\n",
        "        while len(arith_ws) < 5:\n",
        "            arith_ws.append(0)\n",
        "            arith_diff.append(3)\n",
        "            arith_tf.append(1)\n",
        "            arith_af.append(1)\n",
        "        while len(da_ws) < 5:\n",
        "            da_ws.append(0)\n",
        "            da_diff.append(3)\n",
        "            da_tf.append(1)\n",
        "            da_af.append(1)\n",
        "        while len(geo_ws) < 5:\n",
        "            geo_ws.append(0)\n",
        "            geo_diff.append(3)\n",
        "            geo_tf.append(1)\n",
        "            geo_af.append(1)\n",
        "        while len(actual_ws) < 20:\n",
        "            actual_ws.append(0)\n",
        "            actual_diff.append(3)\n",
        "            actual_tf.append(1)\n",
        "            actual_af.append(1)\n",
        "        print(alg_ws)\n",
        "        total_ws_ideal_time = np.dot(np.array(alg_ws + arith_ws + da_ws + geo_ws),np.array(alg_tf + arith_tf + da_tf + geo_tf))\n",
        "        total_ws_ideal = np.sum(alg_ws) + np.sum(arith_ws) + np.sum(da_ws) + np.sum(geo_ws)\n",
        "        total_weight_ideal = np.sum(alg_diff) + np.sum(arith_diff) + np.sum(da_diff) + np.sum(geo_diff)\n",
        "        total_ws_ideal_time_reattempt = dotproduct(np.array(alg_ws + arith_ws + da_ws + geo_ws),np.array(alg_tf + arith_tf + da_tf + geo_tf),np.array(alg_af+arith_af+da_af+geo_af))\n",
        "        total_ws_ideal_reattempt=np.dot(np.array(alg_ws+arith_ws+da_ws+geo_ws),np.array(alg_af+arith_af+da_af+geo_af))\n",
        "               \n",
        "        total_ws_actual_time = np.dot(np.array(actual_ws),np.array(actual_tf))\n",
        "        total_ws_actual_time_reattempt=dotproduct(np.array(actual_ws),np.array(actual_tf),np.array(actual_af))\n",
        "        total_ws_actual = np.sum(actual_ws)\n",
        "        total_weight_actual = np.sum(actual_diff)\n",
        "        total_ws_actual_reattempt=np.dot(np.array(actual_ws),np.array(actual_af))\n",
        "        \n",
        "        pred_score_ideal_time.append(int(130 + ((total_ws_ideal_time * 1. / total_weight_ideal)*40)))\n",
        "        pred_score_ideal.append(int(130 + ((total_ws_ideal * 1. / total_weight_ideal)*40)))\n",
        "        pred_score_actual_time.append(int(130 + ((total_ws_actual_time * 1. / total_weight_actual)*40)))\n",
        "        pred_score_actual.append(int(130 + ((total_ws_actual * 1. / total_weight_actual)*40)))\n",
        "        pred_score_ideal_time_attempt.append(int(130+((total_ws_ideal_time_reattempt*1./total_weight_ideal)*40)))\n",
        "        pred_score_ideal_attempt.append(int(130+((total_ws_ideal_reattempt*1./total_weight_ideal)*40)))\n",
        "        pred_score_actual_attempt_time.append(int(130+((total_ws_actual_time_reattempt*1./total_weight_actual)*40)))\n",
        "        pred_score_actual_attempt.append(int(130+((total_ws_actual_reattempt*1./total_weight_actual)*40)))\n",
        "        \n",
        "        i=i+1\n",
        "                                        \n",
        "    hist['ps_ideal_' + str(n_of_q) + '_time'] = pd.Series(pred_score_ideal_time,index = hist.index)\n",
        "    hist['ps_ideal_' + str(n_of_q)] = pd.Series(pred_score_ideal,index = hist.index)\n",
        "    hist['ps_actual_' + str(n_of_q) + '_time'] = pd.Series(pred_score_actual_time,index = hist.index)\n",
        "    hist['ps_actual_' + str(n_of_q)] = pd.Series(pred_score_actual,index = hist.index)\n",
        "    hist['ps_ideal_'+str(n_of_q)+'_time'+'_reattempt']=pd.Series(pred_score_ideal_time_attempt,index=hist.index)\n",
        "    hist['ps_ideal_'+str(n_of_q)+'_reattempt']=pd.Series(pred_score_ideal_attempt,index=hist.index)\n",
        "    hist['ps_actual_'+str(n_of_q)+'_reattempt']=pd.Series(pred_score_actual_attempt,index=hist.index)\n",
        "    hist['ps_actual_'+str(n_of_q)+'_time'+'_reattempt']=pd.Series(pred_score_actual_attempt_time,index=hist.index)\n",
        "                                \n",
        "    return hist\n",
        "\n",
        "def const_user_table(uid):\n",
        "    int_data = pd.read_csv('~/Downloads/int_data.csv')\n",
        "    quant_q = pd.read_csv('~/Downloads/quant_question_data.csv')\n",
        "    reattempt_data=pd.read_csv('~/Desktop/reattempt_factor_final.csv')\n",
        "    quant_q = set_med_mad(quant_q)\n",
        "    hist_user_data = attempt_hist_user(int_data,quant_q,reattempt_data,uid)\n",
        "    hist_user_data = calc_quant_ps(hist_user_data,20)\n",
        "    hist_user_data = calc_quant_ps(hist_user_data,40)\n",
        "    #hist_user_data = calc_quant_ps_40(hist_user_data)\n",
        "    #hist_user_data.to_csv('~/Downloads/pred_score_with_reattempt_'+str(uid)+'.csv')\n",
        "    return hist_user_data"
      ],
      "execution_count": 0,
      "outputs": []
    },
    {
      "metadata": {
        "id": "z0-vAB_wqURV",
        "colab_type": "code",
        "colab": {}
      },
      "cell_type": "code",
      "source": [
        "int_data = pd.read_csv('~/Downloads/int_data.csv')\n",
        "quant_q = pd.read_csv('~/Downloads/quant_question_data.csv')\n",
        "reattempt_data=pd.read_csv('~/Desktop/reattempt_factor_final.csv')\n",
        "set_of_users = set(int_data.uid)\n",
        "set_of_questions = set(quant_q.entrayn_glu_id)\n",
        "\n",
        "list_of_users = list(set_of_users)\n",
        "list_of_questions = list(set_of_questions)\n",
        "\n",
        "def get_standard_error_user_degree(user_table,column_name,degree):\n",
        "    x = user_table.index.tolist()\n",
        "    y = user_table[column_name].tolist()\n",
        "    coeff = np.polyfit(x,y,degree).tolist()\n",
        "    num_of_coeff = len(coeff)\n",
        "    j = 0\n",
        "    trend_data = []\n",
        "    while j < len(user_table):\n",
        "        i = 0\n",
        "        y_out = 0\n",
        "        while i < num_of_coeff:\n",
        "            y_out = y_out + ((x[j]**(num_of_coeff - i - 1))*coeff[i])\n",
        "            i += 1\n",
        "        trend_data.append(y_out)\n",
        "        j += 1\n",
        "    user_table['trend_data'] = pd.Series(trend_data, index = user_table.index)\n",
        "    i = 0\n",
        "    squared_diff = []\n",
        "    while i < len(user_table):\n",
        "        squared_diff.append((user_table['trend_data'][i] - user_table[column_name][i])**2)\n",
        "        i += 1\n",
        "    user_table['squared_diff_'+column_name+'_'+str(degree)] = pd.Series(squared_diff, index = user_table.index)\n",
        "    standard_error = np.mean(user_table['squared_diff_'+column_name+'_'+str(degree)])\n",
        "    return standard_error"
      ],
      "execution_count": 0,
      "outputs": []
    },
    {
      "metadata": {
        "id": "nrDrVLewqURb",
        "colab_type": "code",
        "colab": {}
      },
      "cell_type": "code",
      "source": [
        "set_of_users = set(int_data.uid.tolist())\n",
        "list_of_users = list(set_of_users)\n",
        "set_of_quant_q = set(quant_q.entrayn_glu_id.tolist())\n",
        "n_quant_q = []\n",
        "i = 0\n",
        "while i < len(list_of_users):\n",
        "    n_quant_q.append(0)\n",
        "    i += 1\n",
        "df = pd.DataFrame({'uid':pd.Series(list_of_users),\n",
        "                 'quant_q_attempted':pd.Series(n_quant_q)})\n",
        "start = time.time()\n",
        "i = 0\n",
        "n = len(int_data)\n",
        "while i < n:\n",
        "    #print i, time.time() - start\n",
        "    if int_data.entity_id[i] in set_of_quant_q:\n",
        "        df.quant_q_attempted[df.uid == int_data.uid[i]] = df.loc[df.uid == int_data.uid[i]].quant_q_attempted + 1\n",
        "    i += 1\n",
        "#print time.time() - start"
      ],
      "execution_count": 0,
      "outputs": []
    },
    {
      "metadata": {
        "id": "Wf5iAjsOqURh",
        "colab_type": "code",
        "colab": {}
      },
      "cell_type": "code",
      "source": [
        "set_of_users_no_quant = set(df.loc[df.quant_q_attempted == 0].uid.values.tolist())\n",
        "users_to_run_through = set_of_users - set_of_users_no_quant\n",
        "users_to_run_through = list(users_to_run_through)\n",
        "\n",
        "list_of_valid_users = pd.DataFrame({'uid':pd.Series(users_to_run_through)})\n",
        "for i in range(1,6):\n",
        "        list_of_valid_users['std_error_id_40_'+str(i)] = 0.\n",
        "        list_of_valid_users['std_error_id_40_time_'+str(i)] = 0.\n",
        "        list_of_valid_users['std_error_ac_40_'+str(i)] = 0.\n",
        "        list_of_valid_users['std_error_ac_40_time_'+str(i)] = 0.\n",
        "        list_of_valid_users['std_error_id_40_time_attempt_'+str(i)]=0.\n",
        "        list_of_valid_users['std_error_id_40_attempt_'+str(i)]=0.\n",
        "        list_of_valid_users['std_error_ac_40_attempt_'+str(i)]=0.\n",
        "        list_of_valid_users['std_error_ac_40_attempt_time_'+str(i)]=0.\n",
        "        \n",
        "        \n",
        "                            "
      ],
      "execution_count": 0,
      "outputs": []
    },
    {
      "metadata": {
        "id": "XjM0oMkHqURo",
        "colab_type": "code",
        "colab": {}
      },
      "cell_type": "code",
      "source": [
        "start = time.time()\n",
        "j = 0\n",
        "n = len(list_of_valid_users)\n",
        "while j < n:\n",
        "    user_table = const_user_table(list_of_valid_users.uid[j])\n",
        "    for i in range(1,6):\n",
        "        list_of_valid_users['std_error_id_40_'+str(i)][j] = get_standard_error_user_degree(user_table,'ps_ideal_40',i)\n",
        "        list_of_valid_users['std_error_id_40_time_'+str(i)][j] = get_standard_error_user_degree(user_table,'ps_ideal_40_time',i)\n",
        "        list_of_valid_users['std_error_ac_40_'+str(i)][j] = get_standard_error_user_degree(user_table,'ps_actual_40',i)\n",
        "        list_of_valid_users['std_error_ac_40_time_'+str(i)][j] = get_standard_error_user_degree(user_table,'ps_actual_40_time',i)\n",
        "        list_of_valid_users['std_error_id_40_time_attempt_'+str(i)][j]=get_standard_error_user_degree(user_table,'ps_ideal_40_time_reattempt',i)\n",
        "        list_of_valid_users['std_error_id_40_attempt_'+str(i)][j]=get_standard_error_user_degree(user_table,'ps_ideal_40_reattempt',i)\n",
        "        list_of_valid_users['std_error_ac_40_attempt_'+str(i)][j]=get_standard_error_user_degree(user_table,'ps_actual_40_reattempt',i)\n",
        "        list_of_valid_users['std_error_ac_40_attempt_time_'+str(i)][j]=get_standard_error_user_degree(user_table,'ps_actual_40_time_reattempt',i)\n",
        "        \n",
        "    j += 1\n",
        "#print time.time() - start"
      ],
      "execution_count": 0,
      "outputs": []
    },
    {
      "metadata": {
        "id": "SFhbJ0DGqURv",
        "colab_type": "code",
        "colab": {}
      },
      "cell_type": "code",
      "source": [
        "a = list_of_valid_users.describe()\n",
        "#list_of_valid_users.to_csv('~/Downloads/list_of_valid_users.csv')\n",
        "a.to_csv('~/Downloads/describe_stats_with_reattempt_factor1.csv')"
      ],
      "execution_count": 0,
      "outputs": []
    },
    {
      "metadata": {
        "id": "4BXffuFwqUR1",
        "colab_type": "code",
        "colab": {},
        "outputId": "9a07cf83-45fc-485f-9e8b-f9d6a178ed41"
      },
      "cell_type": "code",
      "source": [
        "int_data = pd.read_csv('~/Downloads/int_data.csv')\n",
        "quant_q = pd.read_csv('~/Downloads/quant_question_data.csv')\n",
        "reattempt_data=pd.read_csv('~/Desktop/reattempt_factor_final.csv')\n",
        "i =1000\n",
        "a = reattempt_data.loc[reattempt_data.uid == int_data.uid[i]]\n",
        "(a.loc[a.q_id==15505].no_of_attempts.values.tolist())"
      ],
      "execution_count": 0,
      "outputs": [
        {
          "output_type": "execute_result",
          "data": {
            "text/plain": [
              "1560    2\n",
              "Name: no_of_attempts, dtype: int64"
            ]
          },
          "metadata": {
            "tags": []
          },
          "execution_count": 103
        }
      ]
    },
    {
      "metadata": {
        "id": "3ZLtW5GwqUR7",
        "colab_type": "code",
        "colab": {}
      },
      "cell_type": "code",
      "source": [
        "int_data.uid[5]"
      ],
      "execution_count": 0,
      "outputs": []
    },
    {
      "metadata": {
        "id": "oeDXfslsqUSA",
        "colab_type": "code",
        "colab": {}
      },
      "cell_type": "code",
      "source": [
        "int_data.entity_id[i]"
      ],
      "execution_count": 0,
      "outputs": []
    },
    {
      "metadata": {
        "id": "AL-pJ-DgqUSI",
        "colab_type": "code",
        "colab": {}
      },
      "cell_type": "code",
      "source": [
        "int_data = pd.read_csv('~/Downloads/int_data.csv')\n",
        "quant_q = pd.read_csv('~/Downloads/quant_question_data.csv')\n",
        "reattempt_data=pd.read_csv('~/Desktop/reattempt_factor_final.csv')\n",
        "set_of_quant_q = set(quant_q.entrayn_glu_id.tolist())\n",
        "return N\n",
        "         \n"
      ],
      "execution_count": 0,
      "outputs": []
    },
    {
      "metadata": {
        "id": "0zyS7V3hqUSL",
        "colab_type": "code",
        "colab": {}
      },
      "cell_type": "code",
      "source": [
        "attempts=(a.loc[a.q_id==int_data.entity_id[i]].no_of_attempts)\n",
        "print (attempts)"
      ],
      "execution_count": 0,
      "outputs": []
    },
    {
      "metadata": {
        "id": "d9HYyQH4qUS3",
        "colab_type": "code",
        "colab": {}
      },
      "cell_type": "code",
      "source": [
        "import numpy as np\n",
        "a=np.array([1,4,5])\n",
        "b=np.array([1,4,5])\n",
        "np.cross(a,b)"
      ],
      "execution_count": 0,
      "outputs": []
    },
    {
      "metadata": {
        "id": "3r1tGM9mqUS6",
        "colab_type": "code",
        "colab": {}
      },
      "cell_type": "code",
      "source": [
        "i=1\n",
        "n=3\n",
        "sum=0\n",
        "def matrix_multiplication(a,b,c):\n",
        "    global sum\n",
        "    global i\n",
        "    for i in range(3):\n",
        "        sum=sum+a[i]*b[i]*c[i]\n",
        "    return sum"
      ],
      "execution_count": 0,
      "outputs": []
    },
    {
      "metadata": {
        "id": "2_8rTlq9qUS9",
        "colab_type": "code",
        "colab": {}
      },
      "cell_type": "code",
      "source": [
        "matrix_multiplication(np.array([7,2,3]),np.array([1,2,3]),np.array([1,2,3]))"
      ],
      "execution_count": 0,
      "outputs": []
    },
    {
      "metadata": {
        "id": "XQNHgLqvqUTD",
        "colab_type": "code",
        "colab": {}
      },
      "cell_type": "code",
      "source": [
        "import numpy as np\n",
        "import reduce\n",
        "V1=(1,2,3)\n",
        "V2=(1,2,3)\n",
        "V3=(1,2,3)\n",
        "sum (i*j for (i,j) in zip(V1,V2,V3))"
      ],
      "execution_count": 0,
      "outputs": []
    },
    {
      "metadata": {
        "id": "8rvufSk2qUTI",
        "colab_type": "code",
        "colab": {}
      },
      "cell_type": "code",
      "source": [
        "import numpy as np\n",
        "np.array([1+2],[3+4])"
      ],
      "execution_count": 0,
      "outputs": []
    },
    {
      "metadata": {
        "id": "XA1DoB1SqUTS",
        "colab_type": "code",
        "colab": {}
      },
      "cell_type": "code",
      "source": [
        "np.array([[1,2.0],[0,0],(1+1j,3.)])"
      ],
      "execution_count": 0,
      "outputs": []
    },
    {
      "metadata": {
        "id": "x3KXF8mKqUTX",
        "colab_type": "code",
        "colab": {}
      },
      "cell_type": "code",
      "source": [
        "len(alg_ws)==len(geo_ws)"
      ],
      "execution_count": 0,
      "outputs": []
    },
    {
      "metadata": {
        "id": "wl-VGRw5qUTa",
        "colab_type": "code",
        "colab": {}
      },
      "cell_type": "code",
      "source": [
        "def dotproduct(a,b,c):\n",
        "    n = len(a)\n",
        "    sum = 0\n",
        "    for i in range(n):\n",
        "        sum=sum+a[i]*b[i]*c[i]\n",
        "    return sum"
      ],
      "execution_count": 0,
      "outputs": []
    },
    {
      "metadata": {
        "id": "_jIu4SAlqUTc",
        "colab_type": "code",
        "colab": {}
      },
      "cell_type": "code",
      "source": [
        "dotproduct([1,2,3],[1,3],[1,2,3])"
      ],
      "execution_count": 0,
      "outputs": []
    }
  ]
}
